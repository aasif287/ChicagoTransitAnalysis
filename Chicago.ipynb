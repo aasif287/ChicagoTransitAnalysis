{
 "cells": [
  {
   "cell_type": "code",
   "execution_count": 10,
   "id": "7bb9da22-3105-4757-a44b-b500eabfabd3",
   "metadata": {},
   "outputs": [
    {
     "name": "stdout",
     "output_type": "stream",
     "text": [
      "a. The busiest station in Chicago is Lake/State with 105701928 boardings.\n",
      "b. The busiest day in these 20 years was on 11/04/2016.\n",
      "c. The least busy weekday is Sunday.\n"
     ]
    }
   ],
   "source": [
    "#for part 1\n",
    "#gets the necessary libaries \n",
    "import pandas as pd\n",
    "#reads csv file\n",
    "df = pd.read_csv(\"CTA_-_Ridership_-__L__Station_Entries_-_Daily_Totals.csv\" )\n",
    "\n",
    "# a. What's the busiest station (most boardings) in Chicago?\n",
    "#counts the station with the most amount of boardings \n",
    "busiest_station = df.groupby('stationname')['rides'].sum().idxmax()\n",
    "busiest_station_boardings = df.groupby('stationname')['rides'].sum().max()\n",
    "print(f\"a. The busiest station in Chicago is {busiest_station} with {busiest_station_boardings} boardings.\")\n",
    "\n",
    "# Convert the 'date' column to a datetime format\n",
    "df['date'] = pd.to_datetime(df['date'])\n",
    "\n",
    "# b. What was the busiest day in these 20 years?\n",
    "#counts and gets the busiest date based on amount of rides\n",
    "busiest_day = df.groupby('date')['rides'].sum().idxmax()\n",
    "print(f\"b. The busiest day in these 20 years was on {busiest_day.strftime('%m/%d/%Y')}.\")\n",
    "\n",
    "# c. What was the least busy weekday?\n",
    "#counts and gets the least amount of rides for each weekday\n",
    "weekday_names = [\"Monday\", \"Tuesday\", \"Wednesday\", \"Thursday\", \"Friday\", \"Saturday\", \"Sunday\"]\n",
    "df['weekday_name'] = df['date'].dt.dayofweek.map(lambda x: weekday_names[x])\n",
    "least_busy_weekday = df.groupby('weekday_name')['rides'].sum().idxmin()\n",
    "print(f\"c. The least busy weekday is {least_busy_weekday}.\")\n",
    "\n"
   ]
  },
  {
   "cell_type": "code",
   "execution_count": 9,
   "id": "4b05e46d-b448-4c91-b538-49bd3192afee",
   "metadata": {},
   "outputs": [
    {
     "name": "stdout",
     "output_type": "stream",
     "text": [
      "a. The busiest hour in the 1/10th sample data (BARTtenth.csv) is 5:00 PM.\n",
      "b. The busiest hour in the 1/100th sample data (BARThundredth.csv) is 8:00 AM.\n"
     ]
    }
   ],
   "source": [
    "#part 2\n",
    "#imports necessary Libraries \n",
    "import pandas as pd\n",
    "#reads csv files\n",
    "df_tenth = pd.read_csv('BARTtenth.csv')\n",
    "df_hundreth = pd.read_csv('BARThundredth.csv')\n",
    "\n",
    "# Convert the hour value to time format\n",
    "def convert_to_am_pm(hour):\n",
    "    if hour == 0:\n",
    "        return \"12:00 AM\"\n",
    "    elif 1 <= hour < 12:\n",
    "        return f\"{hour}:00 AM\"\n",
    "    elif hour == 12:\n",
    "        return \"12:00 PM\"\n",
    "    else:\n",
    "        return f\"{hour - 12}:00 PM\"\n",
    "\n",
    "# a. What's the busiest hour in the 1/10th sample data (BARTtenth.csv)?\n",
    "#writes function to get the busiest hour from counting the individuals taking a ride\n",
    "busiest_hour_tenth = df_tenth.groupby('Hour')['Count'].sum().idxmax()\n",
    "busiest_hour_tenth_formatted = convert_to_am_pm(busiest_hour_tenth)\n",
    "print(f\"a. The busiest hour in the 1/10th sample data (BARTtenth.csv) is {busiest_hour_tenth_formatted}.\")\n",
    "\n",
    "# b. What's the busiest hour in the 1/100th sample data (BARThundreth.csv)?\n",
    "#writes function to get the busiest hour from counting the individuals taking a ride \n",
    "busiest_hour_hundreth = df_hundreth.groupby('Hour')['Count'].sum().idxmax()\n",
    "busiest_hour_hundreth_formatted = convert_to_am_pm(busiest_hour_hundreth)\n",
    "print(f\"b. The busiest hour in the 1/100th sample data (BARThundredth.csv) is {busiest_hour_hundreth_formatted}.\")\n"
   ]
  },
  {
   "cell_type": "code",
   "execution_count": null,
   "id": "f4f3ed3a-3555-4bd6-bc3b-68fab0b7d6ed",
   "metadata": {},
   "outputs": [],
   "source": []
  }
 ],
 "metadata": {
  "kernelspec": {
   "display_name": "Python 3 (ipykernel)",
   "language": "python",
   "name": "python3"
  },
  "language_info": {
   "codemirror_mode": {
    "name": "ipython",
    "version": 3
   },
   "file_extension": ".py",
   "mimetype": "text/x-python",
   "name": "python",
   "nbconvert_exporter": "python",
   "pygments_lexer": "ipython3",
   "version": "3.11.5"
  }
 },
 "nbformat": 4,
 "nbformat_minor": 5
}
